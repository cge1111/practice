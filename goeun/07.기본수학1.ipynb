{
 "cells": [
  {
   "cell_type": "markdown",
   "id": "e733567b",
   "metadata": {},
   "source": [
    "### 1712 손익분기점\n",
    "<div class=\"alert alert-block alert-success\">\n",
    "    <b>문제</b>  <br>\n",
    "월드전자는 노트북을 제조하고 판매하는 회사이다. 노트북 판매 대수에 상관없이 매년 임대료, 재산세, 보험료, 급여 등 A만원의 고정 비용이 들며, 한 대의 노트북을 생산하는 데에는 재료비와 인건비 등 총 B만원의 가변 비용이 든다고 한다.\n",
    "\n",
    "예를 들어 A=1,000, B=70이라고 하자. 이 경우 노트북을 한 대 생산하는 데는 총 1,070만원이 들며, 열 대 생산하는 데는 총 1,700만원이 든다.\n",
    "\n",
    "노트북 가격이 C만원으로 책정되었다고 한다. 일반적으로 생산 대수를 늘려 가다 보면 어느 순간 총 수입(판매비용)이 총 비용(=고정비용+가변비용)보다 많아지게 된다. 최초로 총 수입이 총 비용보다 많아져 이익이 발생하는 지점을 손익분기점(BREAK-EVEN POINT)이라고 한다.\n",
    "\n",
    "A, B, C가 주어졌을 때, 손익분기점을 구하는 프로그램을 작성하시오.    \n",
    "</div>\n"
   ]
  },
  {
   "cell_type": "code",
   "execution_count": 1,
   "id": "a88dd26f",
   "metadata": {},
   "outputs": [
    {
     "name": "stdout",
     "output_type": "stream",
     "text": [
      "1000 70 170\n",
      "11\n"
     ]
    }
   ],
   "source": [
    "a,b,c = map(int, input().split())\n",
    "if b >= c:\n",
    "    print(-1)\n",
    "else:\n",
    "    print(a//(c-b)+1)"
   ]
  },
  {
   "cell_type": "markdown",
   "id": "072aaf68",
   "metadata": {},
   "source": [
    "### 2292 벌집\n",
    "\n",
    "<img src=\"https://www.acmicpc.net/JudgeOnline/upload/201009/3(2).png\" width=\"300\" style=\"float:left\" />"
   ]
  },
  {
   "cell_type": "markdown",
   "id": "bcc32305",
   "metadata": {},
   "source": [
    "<div class=\"alert alert-block alert-success\">\n",
    "    <b>문제</b>  <br>\n",
    "위의 그림과 같이 육각형으로 이루어진 벌집이 있다. 그림에서 보는 바와 같이 중앙의 방 1부터 시작해서 이웃하는 방에 돌아가면서 1씩 증가하는 번호를 주소로 매길 수 있다. 숫자 N이 주어졌을 때, 벌집의 중앙 1에서 N번 방까지 최소 개수의 방을 지나서 갈 때 몇 개의 방을 지나가는지(시작과 끝을 포함하여)를 계산하는 프로그램을 작성하시오. 예를 들면, 13까지는 3개, 58까지는 5개를 지난다.  \n",
    "</div>"
   ]
  },
  {
   "cell_type": "code",
   "execution_count": 3,
   "id": "d386c6ea",
   "metadata": {},
   "outputs": [
    {
     "name": "stdout",
     "output_type": "stream",
     "text": [
      "13\n",
      "3\n"
     ]
    }
   ],
   "source": [
    "n = int(input())\n",
    "a, result = 1,1\n",
    "while n > a:\n",
    "    a += 6*result\n",
    "    result += 1\n",
    "print(result)"
   ]
  },
  {
   "cell_type": "markdown",
   "id": "b174e792",
   "metadata": {},
   "source": [
    "### 1193 분수찾기\n",
    "| . |. |.|.|.|.|\n",
    "|-|-|-|-|-|-|\n",
    "|1/1|1/2|1/3|1/4|1/5|…|\n",
    "|2/1|2/2|2/3|2/4|…|…|\n",
    "|3/1|3/2|3/3|…|…|…|\n",
    "|4/1|4/2|…|…|…|…|\n",
    "|5/1|…|…|…|…|…|\n",
    "|…|…|…|…|…|…|"
   ]
  },
  {
   "cell_type": "markdown",
   "id": "3a03c595",
   "metadata": {},
   "source": [
    "<div class=\"alert alert-block alert-success\">\n",
    "    <b>문제</b>  <br>\n",
    "이와 같이 나열된 분수들을 1/1 → 1/2 → 2/1 → 3/1 → 2/2 → … 과 같은 지그재그 순서로 차례대로 1번, 2번, 3번, 4번, 5번, … 분수라고 하자.\n",
    "\n",
    "X가 주어졌을 때, X번째 분수를 구하는 프로그램을 작성하시오.   \n",
    "</div>"
   ]
  },
  {
   "cell_type": "code",
   "execution_count": 8,
   "id": "ad7d08cc",
   "metadata": {},
   "outputs": [
    {
     "name": "stdout",
     "output_type": "stream",
     "text": [
      "2\n",
      "1/2\n"
     ]
    }
   ],
   "source": [
    "n = int(input())\n",
    "\n",
    "c = 1 # 라인\n",
    "while n > c:\n",
    "    n -= c\n",
    "    c += 1\n",
    "\n",
    "# (top)분자 오름차순, (under)분모 내림차순\n",
    "if c % 2 == 0:\n",
    "    top = n\n",
    "    under = c - n + 1\n",
    "    \n",
    "# 분자 내림차순, 분모 오름차순\n",
    "else:\n",
    "    top = c - n + 1\n",
    "    under = n\n",
    "print(f'{top}/{under}')"
   ]
  },
  {
   "cell_type": "code",
   "execution_count": 9,
   "id": "31ff84ec",
   "metadata": {},
   "outputs": [
    {
     "name": "stdout",
     "output_type": "stream",
     "text": [
      "3\n",
      "2/1\n"
     ]
    }
   ],
   "source": [
    "# 1193 숏코딩\n",
    "n=int(input());a=0\n",
    "while n>0:a+=1;n-=a\n",
    "print(\"%d/%d\"%(1-n,a+n)[::a%2*2-1])"
   ]
  },
  {
   "cell_type": "markdown",
   "id": "f31c77d9",
   "metadata": {},
   "source": [
    "### 2869 달팽이는 올라가고 싶다\n",
    "\n",
    "<div class=\"alert alert-block alert-success\">\n",
    "    <b>문제</b>  <br>\n",
    "    땅 위에 달팽이가 있다. 이 달팽이는 높이가 V미터인 나무 막대를 올라갈 것이다.\n",
    "\n",
    "달팽이는 낮에 A미터 올라갈 수 있다. 하지만, 밤에 잠을 자는 동안 B미터 미끄러진다. 또, 정상에 올라간 후에는 미끄러지지 않는다.\n",
    "\n",
    "달팽이가 나무 막대를 모두 올라가려면, 며칠이 걸리는지 구하는 프로그램을 작성하시오.\n",
    "</div>"
   ]
  },
  {
   "cell_type": "code",
   "execution_count": 1,
   "id": "76c4e437",
   "metadata": {},
   "outputs": [
    {
     "name": "stdout",
     "output_type": "stream",
     "text": [
      "2 1 5\n",
      "4\n"
     ]
    }
   ],
   "source": [
    "# import sys\n",
    "# a,b,v = map(int, sys.stdin.readline().split())\n",
    "a, b, v = map(int, input().split())\n",
    "day, h = 0, 0\n",
    "for i in range(v):\n",
    "    day += 1\n",
    "    h += a\n",
    "    if h == v:\n",
    "        print(day)\n",
    "        break\n",
    "    h -= b"
   ]
  },
  {
   "cell_type": "code",
   "execution_count": 2,
   "id": "fd877e24",
   "metadata": {},
   "outputs": [
    {
     "name": "stdout",
     "output_type": "stream",
     "text": [
      "2 1 5\n",
      "4\n"
     ]
    }
   ],
   "source": [
    "# 구글링\n",
    "a,b,v = map(int,input().split())\n",
    "day = (v-b)/(a-b)\n",
    "print(int(day) if day == int(day) else int(day)+1)"
   ]
  },
  {
   "cell_type": "markdown",
   "id": "1fcecb5b",
   "metadata": {},
   "source": [
    "### 10250 ACB 호텔\n",
    "<div class=\"alert alert-block alert-success\">\n",
    "    <b>문제</b>  <br>\n",
    "ACM 호텔 매니저 지우는 손님이 도착하는 대로 빈 방을 배정하고 있다. 고객 설문조사에 따르면 손님들은 호텔 정문으로부터 걸어서 가장 짧은 거리에 있는 방을 선호한다고 한다. 여러분은 지우를 도와 줄 프로그램을 작성하고자 한다. 즉 설문조사 결과 대로 호텔 정문으로부터 걷는 거리가 가장 짧도록 방을 배정하는 프로그램을 작성하고자 한다.\n",
    "\n",
    "문제를 단순화하기 위해서 호텔은 직사각형 모양이라고 가정하자. 각 층에 W 개의 방이 있는 H 층 건물이라고 가정하자 (1 ≤ H, W ≤ 99). 그리고 엘리베이터는 가장 왼쪽에 있다고 가정하자(그림 1 참고). 이런 형태의 호텔을 H × W 형태 호텔이라고 부른다. 호텔 정문은 일층 엘리베이터 바로 앞에 있는데, 정문에서 엘리베이터까지의 거리는 무시한다. 또 모든 인접한 두 방 사이의 거리는 같은 거리(거리 1)라고 가정하고 호텔의 정면 쪽에만 방이 있다고 가정한다.\n",
    "</div>"
   ]
  },
  {
   "cell_type": "code",
   "execution_count": null,
   "id": "58a1a34b",
   "metadata": {},
   "outputs": [],
   "source": []
  },
  {
   "cell_type": "markdown",
   "id": "0c8f0de7",
   "metadata": {},
   "source": [
    "### 2775 부녀회장이 될테야\n",
    "\n",
    "<div class=\"alert alert-block alert-success\">\n",
    "    <b>문제</b>  <br>\n",
    "평소 반상회에 참석하는 것을 좋아하는 주희는 이번 기회에 부녀회장이 되고 싶어 각 층의 사람들을 불러 모아 반상회를 주최하려고 한다.\n",
    "\n",
    "이 아파트에 거주를 하려면 조건이 있는데, “a층의 b호에 살려면 자신의 아래(a-1)층의 1호부터 b호까지 사람들의 수의 합만큼 사람들을 데려와 살아야 한다” 는 계약 조항을 꼭 지키고 들어와야 한다.\n",
    "\n",
    "아파트에 비어있는 집은 없고 모든 거주민들이 이 계약 조건을 지키고 왔다고 가정했을 때, 주어지는 양의 정수 k와 n에 대해 k층에 n호에는 몇 명이 살고 있는지 출력하라. 단, 아파트에는 0층부터 있고 각층에는 1호부터 있으며, 0층의 i호에는 i명이 산다.\n",
    "</div>"
   ]
  },
  {
   "cell_type": "code",
   "execution_count": 62,
   "id": "d6968113",
   "metadata": {
    "scrolled": true
   },
   "outputs": [
    {
     "name": "stdout",
     "output_type": "stream",
     "text": [
      "2\n",
      "1\n",
      "3\n",
      "[1, 2, 3]\n",
      "[1, 2, 3]\n",
      "2\n",
      "3\n",
      "[1, 2, 3]\n",
      "[1, 2, 3]\n",
      "[1, 2, 3]\n",
      "[1, 2, 3]\n"
     ]
    }
   ],
   "source": [
    "T = int(input())\n",
    "    \n",
    "for _ in range(T):\n",
    "    k = int(input()) # floor\n",
    "    n = int(input()) # num\n",
    "    \n",
    "    # n만큼 반복\n",
    "    people = []\n",
    "    for i in range(1,n+1):\n",
    "        people.append(i)\n",
    "    for _ in range(k):\n",
    "        for j in range(1,n): # 인덱스\n",
    "            people\n",
    "            print(people)\n",
    "# 여기까지..."
   ]
  },
  {
   "cell_type": "markdown",
   "id": "d8dca09c",
   "metadata": {},
   "source": [
    "# 2839 설탕 배달\n",
    "\n",
    "<div class=\"alert alert-block alert-success\">\n",
    "    <b>문제</b>  <br>\n",
    "상근이는 요즘 설탕공장에서 설탕을 배달하고 있다. 상근이는 지금 사탕가게에 설탕을 정확하게 N킬로그램을 배달해야 한다. 설탕공장에서 만드는 설탕은 봉지에 담겨져 있다. 봉지는 3킬로그램 봉지와 5킬로그램 봉지가 있다.\n",
    "\n",
    "상근이는 귀찮기 때문에, 최대한 적은 봉지를 들고 가려고 한다. 예를 들어, 18킬로그램 설탕을 배달해야 할 때, 3킬로그램 봉지 6개를 가져가도 되지만, 5킬로그램 3개와 3킬로그램 1개를 배달하면, 더 적은 개수의 봉지를 배달할 수 있다.\n",
    "\n",
    "상근이가 설탕을 정확하게 N킬로그램 배달해야 할 때, 봉지 몇 개를 가져가면 되는지 그 수를 구하는 프로그램을 작성하시오.\n",
    "</div>"
   ]
  },
  {
   "cell_type": "code",
   "execution_count": 115,
   "id": "c0267aca",
   "metadata": {},
   "outputs": [
    {
     "name": "stdout",
     "output_type": "stream",
     "text": [
      "9\n",
      "3\n"
     ]
    }
   ],
   "source": [
    "kg = int(input())\n",
    "a, b = 3, 5\n",
    "result = 0\n",
    "\n",
    "while kg >= 0:\n",
    "    if kg % b == 0:\n",
    "        result += (kg//b)\n",
    "        print(result)\n",
    "        break\n",
    "        \n",
    "    kg -= a\n",
    "    result += 1\n",
    "else:\n",
    "    print(-1)"
   ]
  },
  {
   "cell_type": "markdown",
   "id": "8ccbc9d7",
   "metadata": {},
   "source": [
    "## 10757 큰 수 A + B\n",
    "\n",
    "<div class=\"alert alert-block alert-success\">\n",
    "    <b>문제</b>  <br>\n",
    "두 정수 A와 B를 입력받은 다음, A+B를 출력하는 프로그램을 작성하시오.\n",
    "</div>"
   ]
  },
  {
   "cell_type": "code",
   "execution_count": null,
   "id": "33ca0043",
   "metadata": {},
   "outputs": [],
   "source": [
    "import sys\n",
    "a,b= map(int, sys.stdin.readline().split())\n",
    "print(a+b)"
   ]
  },
  {
   "cell_type": "code",
   "execution_count": 4,
   "id": "956e9f7e",
   "metadata": {},
   "outputs": [
    {
     "name": "stdout",
     "output_type": "stream",
     "text": [
      "18446744073709551615\n"
     ]
    }
   ],
   "source": [
    "import sys\n",
    "def sums(a,b): \n",
    "    print(a+b)\n",
    "sums(9223372036854775807,9223372036854775808)"
   ]
  }
 ],
 "metadata": {
  "kernelspec": {
   "display_name": "Python 3 (ipykernel)",
   "language": "python",
   "name": "python3"
  },
  "language_info": {
   "codemirror_mode": {
    "name": "ipython",
    "version": 3
   },
   "file_extension": ".py",
   "mimetype": "text/x-python",
   "name": "python",
   "nbconvert_exporter": "python",
   "pygments_lexer": "ipython3",
   "version": "3.8.13"
  }
 },
 "nbformat": 4,
 "nbformat_minor": 5
}
